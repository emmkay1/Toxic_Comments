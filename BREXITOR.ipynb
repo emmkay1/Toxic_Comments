{
 "cells": [
  {
   "cell_type": "code",
   "execution_count": null,
   "metadata": {},
   "outputs": [],
   "source": [
    "from keras.models import load_model\n",
    "from keras.preprocessing.sequence import pad_sequences\n",
    "import pickle\n",
    "import pandas as pd\n",
    "import matplotlib.pyplot as plt\n",
    "from collections import Counter\n",
    "import numpy as np\n",
    "from wordcloud import WordCloud\n",
    "import re\n",
    "from sklearn.feature_extraction.text import TfidfVectorizer\n",
    "import nltk\n",
    "from nltk.corpus import stopwords\n",
    "stop = stopwords.words('english')\n",
    "# stopwords = nltk.corpus.stopwords.words('english')\n",
    "import string\n",
    "import spacy\n",
    "from PIL import Image\n",
    "\n",
    "from plotly.offline import download_plotlyjs, init_notebook_mode, plot, iplot\n",
    "import plotly.graph_objs as go\n",
    "init_notebook_mode(connected=True)"
   ]
  },
  {
   "cell_type": "code",
   "execution_count": null,
   "metadata": {},
   "outputs": [],
   "source": [
    "MAX_SEQUENCE_LENGTH = 100\n",
    "possible_labels = [\"toxic\", \"severe_toxic\", \"obscene\", \"threat\", \n",
    "                   \"insult\", \"identity_hate\"]"
   ]
  },
  {
   "cell_type": "code",
   "execution_count": null,
   "metadata": {},
   "outputs": [],
   "source": [
    "new_model = load_model('model_tokenizer/pre_trained_toxic_model.h5')"
   ]
  },
  {
   "cell_type": "code",
   "execution_count": null,
   "metadata": {},
   "outputs": [],
   "source": [
    "with open('model_tokenizer/tokenizer.pickle', 'rb') as handle:\n",
    "    tokenizer = pickle.load(handle)"
   ]
  },
  {
   "cell_type": "code",
   "execution_count": null,
   "metadata": {},
   "outputs": [],
   "source": [
    "test = pd.read_csv(\"Twitter_data_files/clean_tweet.csv\")\n",
    "test_sentences = test[\"comment_text\"].fillna(\" \")\n",
    "test_sequences = tokenizer.texts_to_sequences(test_sentences)\n",
    "x_test = pad_sequences(test_sequences, maxlen=MAX_SEQUENCE_LENGTH)"
   ]
  },
  {
   "cell_type": "code",
   "execution_count": null,
   "metadata": {},
   "outputs": [],
   "source": [
    "len(test['comment_text'])"
   ]
  },
  {
   "cell_type": "code",
   "execution_count": null,
   "metadata": {},
   "outputs": [],
   "source": [
    "y_test = new_model.predict(x_test)\n",
    "predicted_file = pd.read_csv(\"data/sample_submission.csv\")\n",
    "predictor = predicted_file.iloc[:14000]\n",
    "predictor[possible_labels] = y_test\n",
    "predictor.to_csv('Twitter_data_files/brexit_submission.csv', index=False)"
   ]
  },
  {
   "cell_type": "code",
   "execution_count": null,
   "metadata": {},
   "outputs": [],
   "source": [
    "df1 = pd.read_csv(\"Twitter_data_files/new_clean_tweet.csv\")\n",
    "df2 = pd.read_csv(\"Twitter_data_files/brexit_submission.csv\")"
   ]
  },
  {
   "cell_type": "code",
   "execution_count": null,
   "metadata": {},
   "outputs": [],
   "source": [
    "result = pd.concat([df1, df2], axis=1)"
   ]
  },
  {
   "cell_type": "code",
   "execution_count": null,
   "metadata": {},
   "outputs": [],
   "source": [
    "result.head()"
   ]
  },
  {
   "cell_type": "code",
   "execution_count": null,
   "metadata": {},
   "outputs": [],
   "source": [
    "result = result[[\"id\", \"comment_text\", \"toxic\", \"severe_toxic\", \"obscene\", \"threat\", \n",
    "                   \"insult\", \"identity_hate\"]]"
   ]
  },
  {
   "cell_type": "code",
   "execution_count": null,
   "metadata": {},
   "outputs": [],
   "source": [
    "result.head()"
   ]
  },
  {
   "cell_type": "code",
   "execution_count": null,
   "metadata": {},
   "outputs": [],
   "source": [
    "result.to_csv('Twitter_data_files/toxic_brexit.csv', index=False)"
   ]
  },
  {
   "cell_type": "code",
   "execution_count": null,
   "metadata": {},
   "outputs": [],
   "source": [
    "train = pd.read_csv('Twitter_data_files/toxic_brexit.csv')"
   ]
  },
  {
   "cell_type": "code",
   "execution_count": null,
   "metadata": {},
   "outputs": [],
   "source": [
    "train.loc[train['severe_toxic'].idxmax()]"
   ]
  },
  {
   "cell_type": "code",
   "execution_count": null,
   "metadata": {},
   "outputs": [],
   "source": [
    "train[\"toxic\"].sum()"
   ]
  },
  {
   "cell_type": "code",
   "execution_count": null,
   "metadata": {},
   "outputs": [],
   "source": [
    "train.loc[train['toxic'] < 0.3, ['toxic']] = 0\n",
    "train.loc[train['toxic'] > 0.3, ['toxic']] = 1\n",
    "\n",
    "train.loc[train['severe_toxic'] < 0.1, ['severe_toxic']] = 0\n",
    "train.loc[train['severe_toxic'] > 0.1, ['severe_toxic']] = 1\n",
    "\n",
    "train.loc[train['obscene'] < 0.2, ['obscene']] = 0\n",
    "train.loc[train['obscene'] > 0.2, ['obscene']] = 1\n",
    "\n",
    "train.loc[train['threat'] < 0.05, ['threat']] = 0\n",
    "train.loc[train['threat'] > 0.05, ['threat']] = 1\n",
    "\n",
    "train.loc[train['insult'] < 0.3, ['insult']] = 0\n",
    "train.loc[train['insult'] > 0.3, ['insult']] = 1\n",
    "\n",
    "train.loc[train['identity_hate'] < 0.08, ['identity_hate']] = 0\n",
    "train.loc[train['identity_hate'] > 0.08, ['identity_hate']] = 1"
   ]
  },
  {
   "cell_type": "code",
   "execution_count": null,
   "metadata": {},
   "outputs": [],
   "source": [
    "train[\"toxic\"].values[146]"
   ]
  },
  {
   "cell_type": "code",
   "execution_count": null,
   "metadata": {},
   "outputs": [],
   "source": [
    "train.head()"
   ]
  },
  {
   "cell_type": "code",
   "execution_count": null,
   "metadata": {},
   "outputs": [],
   "source": [
    "train.to_csv('Twitter_data_files/final_brexit_toxic.csv', index=False)"
   ]
  },
  {
   "cell_type": "code",
   "execution_count": null,
   "metadata": {},
   "outputs": [],
   "source": [
    "df_train = pd.read_csv('Twitter_data_files/final_brexit_toxic.csv')\n",
    "\n",
    "df_train.index = df_train['id']\n",
    "x_train = df_train['comment_text']\n",
    "y_train = df_train.iloc[:, 2:]"
   ]
  },
  {
   "cell_type": "code",
   "execution_count": null,
   "metadata": {},
   "outputs": [],
   "source": [
    "y_train['clean'] = 1 - y_train.sum(axis=1) >= 1"
   ]
  },
  {
   "cell_type": "code",
   "execution_count": null,
   "metadata": {},
   "outputs": [],
   "source": [
    "kinds, counts = zip(*y_train.sum(axis=0).items())"
   ]
  },
  {
   "cell_type": "code",
   "execution_count": null,
   "metadata": {},
   "outputs": [],
   "source": [
    "trace = go.Pie(labels=kinds, values=counts)\n",
    "\n",
    "iplot([trace], filename='basic_pie_chart')"
   ]
  },
  {
   "cell_type": "code",
   "execution_count": null,
   "metadata": {},
   "outputs": [],
   "source": [
    "bars = go.Bar(\n",
    "        y=counts,\n",
    "        x=kinds,\n",
    "    )\n",
    "\n",
    "layout = go.Layout(\n",
    "    title=\"Class distribution\"\n",
    ")\n",
    "\n",
    "fig = go.Figure(data=[bars], layout=layout)\n",
    "iplot(fig, filename='bar')"
   ]
  },
  {
   "cell_type": "code",
   "execution_count": null,
   "metadata": {},
   "outputs": [],
   "source": [
    "nlp = spacy.load(\"en\", disable=['parser', 'tagger', 'ner'])\n",
    "stops = stopwords.words(\"english\")"
   ]
  },
  {
   "cell_type": "code",
   "execution_count": null,
   "metadata": {},
   "outputs": [],
   "source": [
    "def normalize(comment, lowercase, remove_stopwords):\n",
    "    if lowercase:\n",
    "        comment = comment.lower()\n",
    "    comment = nlp(comment)\n",
    "    lemmatized = list()\n",
    "    for word in comment:\n",
    "        lemma = word.lemma_.strip()\n",
    "        if lemma:\n",
    "            if not remove_stopwords or (remove_stopwords and lemma not in stops):\n",
    "                lemmatized.append(lemma)\n",
    "    return \" \".join(lemmatized)"
   ]
  },
  {
   "cell_type": "code",
   "execution_count": null,
   "metadata": {},
   "outputs": [],
   "source": [
    "x_train_lemmatized = x_train.apply(normalize, lowercase=True, remove_stopwords=True)"
   ]
  },
  {
   "cell_type": "code",
   "execution_count": null,
   "metadata": {},
   "outputs": [],
   "source": [
    "x_train_lemmatized.sample(1).iloc[0]"
   ]
  },
  {
   "cell_type": "code",
   "execution_count": null,
   "metadata": {},
   "outputs": [],
   "source": [
    "word_counts = dict()\n",
    "\n",
    "for kind in y_train.columns:\n",
    "    word_counts[kind] = Counter()\n",
    "    comments = x_train_lemmatized[y_train[kind]==1]\n",
    "    for _, comment in comments.iteritems():\n",
    "        word_counts[kind].update(comment.split(\" \"))"
   ]
  },
  {
   "cell_type": "code",
   "execution_count": null,
   "metadata": {},
   "outputs": [],
   "source": [
    "def most_common_words(kind, num_words=15):\n",
    "    words, counts = zip(*word_counts[kind].most_common(num_words)[::-1])\n",
    "    bars = go.Bar(\n",
    "        y=words,\n",
    "        x=counts,\n",
    "        orientation=\"h\"\n",
    "    )\n",
    "\n",
    "    layout = go.Layout(\n",
    "        title=\"Most common words of the class \\\"{}\\\"\".format(kind),\n",
    "        yaxis=dict(\n",
    "            ticklen=8\n",
    "        )\n",
    "    )\n",
    "\n",
    "    fig = go.Figure(data=[bars], layout=layout)\n",
    "    iplot(fig, filename='bar')"
   ]
  },
  {
   "cell_type": "code",
   "execution_count": null,
   "metadata": {},
   "outputs": [],
   "source": [
    "most_common_words(\"toxic\")"
   ]
  },
  {
   "cell_type": "code",
   "execution_count": null,
   "metadata": {},
   "outputs": [],
   "source": [
    "most_common_words(\"severe_toxic\")"
   ]
  },
  {
   "cell_type": "code",
   "execution_count": null,
   "metadata": {},
   "outputs": [],
   "source": [
    "most_common_words(\"threat\")"
   ]
  },
  {
   "cell_type": "code",
   "execution_count": null,
   "metadata": {},
   "outputs": [],
   "source": [
    "most_common_words(\"obscene\")"
   ]
  },
  {
   "cell_type": "code",
   "execution_count": null,
   "metadata": {},
   "outputs": [],
   "source": [
    "most_common_words(\"insult\")"
   ]
  },
  {
   "cell_type": "code",
   "execution_count": null,
   "metadata": {},
   "outputs": [],
   "source": [
    "most_common_words(\"identity_hate\")"
   ]
  },
  {
   "cell_type": "code",
   "execution_count": null,
   "metadata": {},
   "outputs": [],
   "source": [
    "most_common_words(\"clean\")"
   ]
  },
  {
   "cell_type": "code",
   "execution_count": null,
   "metadata": {},
   "outputs": [],
   "source": [
    "df_train = pd.read_csv('Twitter_data_files/final_brexit_toxic.csv')\n",
    "\n",
    "COLUMNS = ['toxic', 'severe_toxic', 'obscene', 'threat', 'insult', 'identity_hate']\n",
    "\n",
    "df_train['none'] = (df_train[COLUMNS].max(axis=1) == 0).astype(int)\n",
    "COLUMNS.append('none')\n",
    "CATEGORIES = COLUMNS.copy()"
   ]
  },
  {
   "cell_type": "code",
   "execution_count": null,
   "metadata": {},
   "outputs": [],
   "source": [
    "word_counter = {}\n",
    "\n",
    "def clean_text(text):\n",
    "    text = re.sub('[{}]'.format(string.punctuation), ' ', text.lower())\n",
    "    return ' '.join([word for word in text.split() if word not in (stop)])\n",
    "\n",
    "for categ in CATEGORIES:\n",
    "    d = Counter()\n",
    "    df_train[df_train[categ] == 1]['comment_text'].apply(lambda t: d.update(clean_text(t).split()))\n",
    "    word_counter[categ] = pd.DataFrame.from_dict(d, orient='index')\\\n",
    "                                        .rename(columns={0: 'count'})\\\n",
    "                                        .sort_values('count', ascending=False)"
   ]
  },
  {
   "cell_type": "code",
   "execution_count": null,
   "metadata": {},
   "outputs": [],
   "source": [
    "mask=np.array(Image.open('twitter.png'))\n",
    "mask=mask[:,:,1]"
   ]
  },
  {
   "cell_type": "code",
   "execution_count": null,
   "metadata": {},
   "outputs": [],
   "source": [
    "stopwords = nltk.corpus.stopwords.words('english')\n",
    "\n",
    "def wordcloud_plot(category, name) :\n",
    "    \n",
    "    for category in CATEGORIES:\n",
    "        d = Counter()\n",
    "        df_train[df_train[categ] == 1]['comment_text'].apply(lambda t: d.update(clean_text(t).split()))\n",
    "        word_counter[categ] = pd.DataFrame.from_dict(d, orient='index')\\\n",
    "                                            .rename(columns={0: 'count'})\\\n",
    "                                            .sort_values('count', ascending=False)\n",
    "    \n",
    "    plt.figure(figsize=(20,15))\n",
    "    wc = WordCloud(background_color=\"black\", max_words=500,mask=mask, min_font_size=6 \n",
    "                 , stopwords=stopwords, max_font_size= 60)\n",
    "    wc.generate(\" \".join(category))\n",
    "    plt.title(\"Twitter Wordlcloud \" + name +  \" Comments\", fontsize=30)\n",
    "    plt.imshow(wc.recolor( colormap= 'Set1' , random_state=21), alpha=0.98)\n",
    "    plt.axis('off')\n",
    "    plt.savefig(name+'_wc.png')\n",
    "    return(True)"
   ]
  },
  {
   "cell_type": "code",
   "execution_count": null,
   "metadata": {},
   "outputs": [],
   "source": [
    "for w in word_counter:\n",
    "    wc = word_counter[w]\n",
    "\n",
    "    wordcloud = WordCloud(\n",
    "          background_color='black',\n",
    "          max_words=1000,\n",
    "          max_font_size=90, \n",
    "          mask=mask\n",
    "         ).generate_from_frequencies(wc.to_dict()['count'])\n",
    "\n",
    "    fig = plt.figure(figsize=(16, 13))\n",
    "    plt.title(w)\n",
    "    plt.imshow(wordcloud.recolor( colormap= 'Set1' , random_state=21), alpha=0.98)\n",
    "    plt.axis('off')\n",
    "\n",
    "    plt.show()"
   ]
  },
  {
   "cell_type": "code",
   "execution_count": null,
   "metadata": {},
   "outputs": [],
   "source": []
  }
 ],
 "metadata": {
  "kernelspec": {
   "display_name": "Python 3",
   "language": "python",
   "name": "python3"
  },
  "language_info": {
   "codemirror_mode": {
    "name": "ipython",
    "version": 3
   },
   "file_extension": ".py",
   "mimetype": "text/x-python",
   "name": "python",
   "nbconvert_exporter": "python",
   "pygments_lexer": "ipython3",
   "version": "3.6.6"
  }
 },
 "nbformat": 4,
 "nbformat_minor": 2
}
